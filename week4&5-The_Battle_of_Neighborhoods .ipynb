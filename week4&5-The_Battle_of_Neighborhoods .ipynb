{
 "cells": [
  {
   "cell_type": "markdown",
   "metadata": {},
   "source": [
    "# The Battle of Neighborhoods "
   ]
  },
  {
   "cell_type": "markdown",
   "metadata": {},
   "source": [
    "## Introduction\n",
    "\n",
    "### Background\n",
    "Paris, the capital and largest city of the French Republic, is also the political, economic, cultural and commercial center of France, one of the five international metropolises in the world (the remaining four are New York, London, Tokyo, Hong Kong), and Ranked as the first-tier city in the world of Alpha+. Paris has a history of more than 1,400 years. It is not only France but also the political, economic and cultural center of Western Europe. \n",
    "\n",
    "Paris, the heart and soul of France, a dream place, a romantic city.The splendid history and culture are here, and fashion innovation is also here.The soul of the Seine flows through the city, flowing through the charm and elegance of the left bank, but also through the bustling and bustling of the ancient shore.When you come to Paris, you can experience the vicissitudes of history by visiting the various attractions. The Louvre and Notre Dame are good choices."
   ]
  },
  {
   "cell_type": "markdown",
   "metadata": {},
   "source": [
    "### Problem\n",
    "When you start walking into Paris, you may be scared, because the complicated traffic and roads will make you dizzy and when you want to choose a hotel, you may not know where the hotel will be convenient, when you are hungry and want to eat Parisian food, pick up the google map, and don't know what to search for. When the time arrives in the evening and you want to enter a bar to relax, you are very hesitant where to go?\n",
    "\n",
    "Everyone who wants to travel to Paris will encounter such troubles. I hope that through this project, others can intuitively realize that the beauty of Paris can also be seen at a glance."
   ]
  },
  {
   "cell_type": "markdown",
   "metadata": {},
   "source": [
    "## Data\n",
    "### Data Requirements\n",
    "\n",
    "Data is the soul of our analysis. I will use different tools (BeautifulSoup) to scrap data online. In the process of scarping, we must follow the following rules:\n",
    "1. Ensure data integrity\n",
    "2. Ensure the accuracy of the data\n",
    "3. Ensure data reliability\n",
    "For doing this analysis, we need a list of landmarks, a list of the tops restaurants, and a list the hotels in paris."
   ]
  },
  {
   "cell_type": "markdown",
   "metadata": {},
   "source": [
    "### Data Collection \n",
    "\n",
    "1. The arrondissements information will be scrapped from the [Wikipedia page](https://en.wikipedia.org/wiki/Arrondissements_of_Paris). \n",
    "2. The venues data are found by using the Foursquare API.  \n",
    "3. list of restaurants will be scrapped from [this](https://www.cntraveler.com/gallery/best-restaurants-in-paris) \n",
    "4. list of hotel will be scrapped from [this](https://www.cntraveler.com/gallery/best-hotels-in-paris)\n",
    "5. list of landmarks will be scrapped from [this](https://www.architecturaldigest.com/gallery/paris-architectural-landmarks)\n"
   ]
  },
  {
   "cell_type": "code",
   "execution_count": null,
   "metadata": {},
   "outputs": [],
   "source": []
  }
 ],
 "metadata": {
  "kernelspec": {
   "display_name": "Python 3",
   "language": "python",
   "name": "python3"
  },
  "language_info": {
   "codemirror_mode": {
    "name": "ipython",
    "version": 3
   },
   "file_extension": ".py",
   "mimetype": "text/x-python",
   "name": "python",
   "nbconvert_exporter": "python",
   "pygments_lexer": "ipython3",
   "version": "3.7.3"
  }
 },
 "nbformat": 4,
 "nbformat_minor": 2
}
